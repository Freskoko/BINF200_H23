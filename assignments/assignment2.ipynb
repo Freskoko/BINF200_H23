{
 "cells": [
  {
   "cell_type": "markdown",
   "metadata": {},
   "source": [
    "### 4.1.1 Parse the fasta file (1 point)\n",
    "\n",
    "How many sequences are contained in the file protein_N_data.fasta?\n",
    "List the names of the sequences."
   ]
  },
  {
   "cell_type": "code",
   "execution_count": null,
   "metadata": {},
   "outputs": [],
   "source": [
    "from Bio import SeqIO\n",
    "from pathlib import Path\n",
    "\n",
    "# pwd = Path.absolute()\n",
    "\n",
    "records = SeqIO.parse(f\"/home/henrik/BINF200_H23/assignments/data2/Coronavirus/Coronavirus/protein_N_data.fasta\", \"fasta\")\n",
    "\n",
    "#Names:\n",
    "print(f\" Names of sequences : {[r.name for r in records]} \")\n",
    "\n",
    "records = SeqIO.parse(f\"/home/henrik/BINF200_H23/assignments/data2/Coronavirus/Coronavirus/protein_N_data.fasta\", \"fasta\")\n",
    "\n",
    "#Lengths:\n",
    "print(f\" Length of induvidual sequences : {[len(r.seq) for r in records]} \")\n",
    "\n",
    "records = SeqIO.parse(f\"/home/henrik/BINF200_H23/assignments/data2/Coronavirus/Coronavirus/protein_N_data.fasta\", \"fasta\")\n",
    "\n",
    "#Amount of sequences:\n",
    "\n",
    "records = SeqIO.parse(f\"/home/henrik/BINF200_H23/assignments/data2/Coronavirus/Coronavirus/protein_N_data.fasta\", \"fasta\")\n",
    "\n",
    "length = len([r for r in records])\n",
    "print(f\" Length of sequences: {length}\")\n",
    "\n"
   ]
  },
  {
   "cell_type": "markdown",
   "metadata": {},
   "source": [
    "### 4.1.2 Find protein N in a specific coronavirus genome (1 point)\n",
    "\n",
    "From the sequences in protein_N_data.fasta, find the sequence for which the first letter\n",
    "in its name is closest in the alphabet to the first letter in your first name. If there\n",
    "are multiple sequences starting with the same letter, pick one arbitrarily. For the selected\n",
    "sequence:\n",
    "\n",
    "**Human_NL63_alpha**\n",
    "\n",
    "• Find the assembly accession ID in the table above.\n",
    "• Go to the NCBI website (cf. links above) and find the corresponding genome assembly.\n",
    "• What are the genomic coordinates (start and end position) of gene N in this genome?\n",
    "(Hint: follow the RefSeq link)\n",
    "\n",
    "Link to the gene [\"gene\"](\"https://www.ncbi.nlm.nih.gov/gene/2943504/\")\n",
    "\n",
    "The genes range is : ***26133 - 27266*** "
   ]
  },
  {
   "cell_type": "markdown",
   "metadata": {},
   "source": [
    "### 4.1.3 Multiple sequence alignment (1 point)\n",
    "\n",
    "Build a multiple sequence alignment for the protein_N_data using a multiple sequence\n",
    "alignment tool of your choice. (Hint: check out the services provided by EMBL’s European\n",
    "Bioinformatics Institute (EMBL-EBI).)"
   ]
  },
  {
   "cell_type": "markdown",
   "metadata": {},
   "source": [
    "For this question i used:\n",
    "\n",
    "https://www.bioinformatics.nl/cgi-bin/emboss/emma\n",
    "\n",
    "and got out a file, containing aligned sequences."
   ]
  },
  {
   "cell_type": "markdown",
   "metadata": {},
   "source": [
    "### 4.1.4 Phylogenetic tree reconstruction (1 point)\n",
    "\n",
    "Based on the results from the previous step, build a phylogenetic tree. (Hint: at this stage\n",
    "it is not required to make an “advanced tree”, providing a simple tree is enough). Save the\n",
    "image of the phylogenetic/guide tree.\n"
   ]
  },
  {
   "cell_type": "markdown",
   "metadata": {},
   "source": [
    "Tree was made in this link:\n",
    "\n",
    "https://www.ebi.ac.uk/Tools/services/web/toolresult.ebi?jobId=simple_phylogeny-I20231002-105856-0957-35098453-p1m\n",
    "\n",
    "From the MSL\n",
    "\n",
    "Image:\n",
    "\n",
    "![tree](outdata2/treeout.png)\n",
    "\n"
   ]
  },
  {
   "cell_type": "markdown",
   "metadata": {},
   "source": [
    "### 4.1.5 Interpretation (1 point)\n",
    "\n",
    "Based on the results from the previous two steps, what do you see? Elaborate with a small\n",
    "text (3-4 lines): Explain what you observe from the multiple sequence alignment itself (hint:\n",
    "check the number of conserved sites), and give a short interpretation of the phylogenetic\n",
    "tree you have constructed."
   ]
  },
  {
   "cell_type": "markdown",
   "metadata": {},
   "source": [
    "From the tree i can see that the viruses are grouped together by their \"variants\". What suprised me is that the tree shows that the variants grouped off quite early. With the exception of gamma and delta, which grouped off from their own common ansector.\n",
    "\n",
    "Having a look at the alignemnts, one can see some conserved regions across variants, this is very obvious when looking at turkey_gamma and duck_gamma\n"
   ]
  },
  {
   "cell_type": "markdown",
   "metadata": {},
   "source": [
    "## 4.2 Step-by-step multiple sequence alignment and phylogenetic tree construction using UPGMA (Total points: 10)"
   ]
  },
  {
   "cell_type": "markdown",
   "metadata": {},
   "source": [
    "### 4.2.1 Compute pairwise similarities (2 points)\n",
    "\n",
    "Use the Needleman-Wunsch (dynamic programming) pairwise alignment algorithm to build\n",
    "a matrix of global alignment scores for each pair of sequences in protein_N_data.fasta.\n",
    "You can choose between multiple options:\n",
    "• Implement the Needleman-Wunsch algorithm yourself. (Hint: You have probably done\n",
    "this already in BINF100)\n",
    "• Use an existing implementation of the algorithm. (Hint: Check biopython, biojulia)\n",
    "• Use the needleall command line program from the EMBOSS suite. (Hint: You installed\n",
    "the whole EMBOSS suite for Assignment 1.)\n",
    "• Use a webserver such as EMBL-EBI’s EMBOSS Needle service. (Hint: Manually\n",
    "inputting every pair of sequences will be extremely tedious, though they do provide\n",
    "APIs.)\n"
   ]
  },
  {
   "cell_type": "code",
   "execution_count": 27,
   "metadata": {},
   "outputs": [
    {
     "name": "stdout",
     "output_type": "stream",
     "text": [
      "+------------------+--------------------+-------------+--------------+---------------+----------------+-------------+---------------+-------------+--------------+-----------------+-------------+---------------+----------------+--------------+---------------+-----------------+----------------+--------------------+-----------------+-----------------+\n",
      "|                  |   Human_NL63_alpha |   Bat_alpha |   mink_alpha |   camel_alpha |   ferret_alpha |   rat_alpha |   rabbit_beta |   MERS_beta |   HKU24_beta |   England1_beta |   SARS_beta |   whale_gamma |   turkey_gamma |   duck_gamma |   goose_gamma |   sparrow_delta |   wigeon_delta |   nightHeron_delta |   moorhen_delta |   porcine_delta |\n",
      "|------------------+--------------------+-------------+--------------+---------------+----------------+-------------+---------------+-------------+--------------+-----------------+-------------+---------------+----------------+--------------+---------------+-----------------+----------------+--------------------+-----------------+-----------------|\n",
      "| Human_NL63_alpha |               1134 |         829 |          775 |           798 |            767 |         775 |           796 |         764 |          788 |             763 |         773 |           741 |            768 |          775 |           783 |             699 |            718 |                703 |             718 |             697 |\n",
      "| Bat_alpha        |                829 |        1278 |          795 |           821 |            789 |         812 |           863 |         821 |          837 |             818 |         830 |           786 |            815 |          824 |           827 |             747 |            759 |                741 |             757 |             740 |\n",
      "| mink_alpha       |                775 |         795 |         1131 |           797 |            902 |         782 |           813 |         779 |          816 |             775 |         799 |           755 |            783 |          788 |           787 |             697 |            705 |                707 |             711 |             695 |\n",
      "| camel_alpha      |                798 |         821 |          797 |          1149 |            778 |         770 |           810 |         784 |          811 |             783 |         786 |           755 |            773 |          777 |           782 |             702 |            719 |                716 |             720 |             709 |\n",
      "| ferret_alpha     |                767 |         789 |          902 |           778 |           1128 |         781 |           805 |         785 |          808 |             781 |         789 |           744 |            779 |          775 |           782 |             691 |            705 |                704 |             714 |             688 |\n",
      "| rat_alpha        |                775 |         812 |          782 |           770 |            781 |        1176 |           832 |         800 |          821 |             800 |         802 |           771 |            785 |          789 |           794 |             722 |            726 |                708 |             732 |             717 |\n",
      "| rabbit_beta      |                796 |         863 |          813 |           810 |            805 |         832 |          1335 |         865 |         1054 |             864 |         874 |           817 |            849 |          846 |           849 |             757 |            771 |                763 |             779 |             756 |\n",
      "| MERS_beta        |                764 |         821 |          779 |           784 |            785 |         800 |           865 |        1242 |          858 |            1231 |         861 |           791 |            819 |          819 |           823 |             746 |            741 |                744 |             755 |             740 |\n",
      "| HKU24_beta       |                788 |         837 |          816 |           811 |            808 |         821 |          1054 |         858 |         1332 |             858 |         867 |           812 |            844 |          849 |           855 |             753 |            763 |                756 |             766 |             752 |\n",
      "| England1_beta    |                763 |         818 |          775 |           783 |            781 |         800 |           864 |        1231 |          858 |            1236 |         860 |           789 |            815 |          815 |           819 |             744 |            740 |                741 |             751 |             737 |\n",
      "| SARS_beta        |                773 |         830 |          799 |           786 |            789 |         802 |           874 |         861 |          867 |             860 |        1260 |           784 |            822 |          826 |           830 |             747 |            753 |                744 |             749 |             740 |\n",
      "| whale_gamma      |                741 |         786 |          755 |           755 |            744 |         771 |           817 |         791 |          812 |             789 |         784 |          1140 |            811 |          805 |           798 |             706 |            711 |                702 |             715 |             701 |\n",
      "| turkey_gamma     |                768 |         815 |          783 |           773 |            779 |         785 |           849 |         819 |          844 |             815 |         822 |           811 |           1230 |          983 |           907 |             734 |            748 |                737 |             753 |             734 |\n",
      "| duck_gamma       |                775 |         824 |          788 |           777 |            775 |         789 |           846 |         819 |          849 |             815 |         826 |           805 |            983 |         1245 |           908 |             740 |            757 |                747 |             757 |             740 |\n",
      "| goose_gamma      |                783 |         827 |          787 |           782 |            782 |         794 |           849 |         823 |          855 |             819 |         830 |           798 |            907 |          908 |          1245 |             742 |            758 |                741 |             768 |             738 |\n",
      "| sparrow_delta    |                699 |         747 |          697 |           702 |            691 |         722 |           757 |         746 |          753 |             744 |         747 |           706 |            734 |          740 |           742 |            1029 |            735 |                724 |             773 |             974 |\n",
      "| wigeon_delta     |                718 |         759 |          705 |           719 |            705 |         726 |           771 |         741 |          763 |             740 |         753 |           711 |            748 |          757 |           758 |             735 |           1053 |                726 |             750 |             739 |\n",
      "| nightHeron_delta |                703 |         741 |          707 |           716 |            704 |         708 |           763 |         744 |          756 |             741 |         744 |           702 |            737 |          747 |           741 |             724 |            726 |               1029 |             747 |             726 |\n",
      "| moorhen_delta    |                718 |         757 |          711 |           720 |            714 |         732 |           779 |         755 |          766 |             751 |         749 |           715 |            753 |          757 |           768 |             773 |            750 |                747 |            1056 |             761 |\n",
      "| porcine_delta    |                697 |         740 |          695 |           709 |            688 |         717 |           756 |         740 |          752 |             737 |         740 |           701 |            734 |          740 |           738 |             974 |            739 |                726 |             761 |            1029 |\n",
      "+------------------+--------------------+-------------+--------------+---------------+----------------+-------------+---------------+-------------+--------------+-----------------+-------------+---------------+----------------+--------------+---------------+-----------------+----------------+--------------------+-----------------+-----------------+\n"
     ]
    }
   ],
   "source": [
    "from Bio import pairwise2\n",
    "from Bio import SeqIO\n",
    "import pandas as pd\n",
    "from tabulate import tabulate\n",
    "\n",
    "sequences = list(SeqIO.parse(f\"/home/henrik/BINF200_H23/assignments/data2/Coronavirus/Coronavirus/protein_N_data.fasta\", \"fasta\"))\n",
    "ids = [record.id for record in sequences]\n",
    "\n",
    "scores_df = pd.DataFrame(index=ids, columns=ids)\n",
    "\n",
    "for i in range(len(sequences)):\n",
    "    for j in range(i, len(sequences)):\n",
    "        alignments = pairwise2.align.globalxx(sequences[i].seq, sequences[j].seq)\n",
    "\n",
    "        score = alignments[0].score\n",
    "        scores_df.iloc[i, j] = score\n",
    "        scores_df.iloc[j, i] = score\n",
    "\n",
    "\n",
    "print(tabulate(scores_df, headers='keys', tablefmt='psql'))"
   ]
  },
  {
   "cell_type": "markdown",
   "metadata": {},
   "source": [
    "### 4.2.2 Generate a pairwise distance matrix (4 points)\n",
    "Generate a distance matrix from the score matrix you have created in the previous step.\n",
    "For this task we will use Feng & Doolittle’s formulation, and we will compute the distance\n",
    "𝐷 using formula:\n",
    "𝐷 = − log 𝑆𝑒𝑓𝑓 = − log 𝑆𝑜𝑏𝑠 − 𝑆𝑟𝑎𝑛𝑑\n",
    "𝑆𝑚𝑎𝑥 − 𝑆𝑟𝑎𝑛𝑑\n",
    "where\n",
    "• 𝑆𝑜𝑏𝑠 is the observed pairwise alignment score\n",
    "• 𝑆𝑚𝑎𝑥 is the best alignment score for both sequences, obtained by taking the average\n",
    "of the score of aligning either sequence to itself\n",
    "• 𝑆𝑟𝑎𝑛𝑑 is the expected (average) score for aligning two random sequences of the same\n",
    "length and residue composition, obtained by random shuffling the nucleotide composition of the two sequences. (Hint: more info about the Feng & Doolittle can be found\n",
    "at this URL: https://rna.informatik.uni-freiburg.de/Teaching/index.jsp?toolName=\n",
    "Feng-Doolittle)\n",
    "Compute 𝑆𝑟𝑎𝑛𝑑 by taking the average score of 10 pairwise alignments between random\n",
    "sequences with the same sequence compositions as the original sequences"
   ]
  },
  {
   "cell_type": "code",
   "execution_count": 29,
   "metadata": {},
   "outputs": [
    {
     "ename": "ValueError",
     "evalue": "math domain error",
     "output_type": "error",
     "traceback": [
      "\u001b[0;31m---------------------------------------------------------------------------\u001b[0m",
      "\u001b[0;31mValueError\u001b[0m                                Traceback (most recent call last)",
      "\u001b[1;32m/home/henrik/BINF200_H23/assignments/assignment2.ipynb Cell 14\u001b[0m line \u001b[0;36m4\n\u001b[1;32m     <a href='vscode-notebook-cell://wsl%2Bubuntu-22.04/home/henrik/BINF200_H23/assignments/assignment2.ipynb#X30sdnNjb2RlLXJlbW90ZQ%3D%3D?line=36'>37</a>\u001b[0m Sobs \u001b[39m=\u001b[39m alignments[\u001b[39m0\u001b[39m]\u001b[39m.\u001b[39mscore\n\u001b[1;32m     <a href='vscode-notebook-cell://wsl%2Bubuntu-22.04/home/henrik/BINF200_H23/assignments/assignment2.ipynb#X30sdnNjb2RlLXJlbW90ZQ%3D%3D?line=37'>38</a>\u001b[0m Srand \u001b[39m=\u001b[39m calc_Srand(\u001b[39mstr\u001b[39m(sequences[i]\u001b[39m.\u001b[39mseq),\u001b[39mstr\u001b[39m(sequences[j]\u001b[39m.\u001b[39mseq))\n\u001b[0;32m---> <a href='vscode-notebook-cell://wsl%2Bubuntu-22.04/home/henrik/BINF200_H23/assignments/assignment2.ipynb#X30sdnNjb2RlLXJlbW90ZQ%3D%3D?line=39'>40</a>\u001b[0m distance \u001b[39m=\u001b[39m calc_distance(Sobs,Smax,Srand)\n\u001b[1;32m     <a href='vscode-notebook-cell://wsl%2Bubuntu-22.04/home/henrik/BINF200_H23/assignments/assignment2.ipynb#X30sdnNjb2RlLXJlbW90ZQ%3D%3D?line=41'>42</a>\u001b[0m distance_df\u001b[39m.\u001b[39miloc[i, j] \u001b[39m=\u001b[39m distance\n\u001b[1;32m     <a href='vscode-notebook-cell://wsl%2Bubuntu-22.04/home/henrik/BINF200_H23/assignments/assignment2.ipynb#X30sdnNjb2RlLXJlbW90ZQ%3D%3D?line=42'>43</a>\u001b[0m distance_df\u001b[39m.\u001b[39miloc[j, i] \u001b[39m=\u001b[39m distance\n",
      "\u001b[1;32m/home/henrik/BINF200_H23/assignments/assignment2.ipynb Cell 14\u001b[0m line \u001b[0;36m9\n\u001b[1;32m      <a href='vscode-notebook-cell://wsl%2Bubuntu-22.04/home/henrik/BINF200_H23/assignments/assignment2.ipynb#X30sdnNjb2RlLXJlbW90ZQ%3D%3D?line=7'>8</a>\u001b[0m \u001b[39mdef\u001b[39;00m \u001b[39mcalc_distance\u001b[39m(Sobs,Smax,Srand):\n\u001b[0;32m----> <a href='vscode-notebook-cell://wsl%2Bubuntu-22.04/home/henrik/BINF200_H23/assignments/assignment2.ipynb#X30sdnNjb2RlLXJlbW90ZQ%3D%3D?line=8'>9</a>\u001b[0m     \u001b[39mreturn\u001b[39;00m \u001b[39m-\u001b[39mlog10( (Sobs\u001b[39m-\u001b[39;49mSrand) \u001b[39m/\u001b[39;49m (Smax \u001b[39m-\u001b[39;49m Srand) )\n",
      "\u001b[0;31mValueError\u001b[0m: math domain error"
     ]
    }
   ],
   "source": [
    "from math import log10\n",
    "from Bio import pairwise2\n",
    "from Bio import SeqIO\n",
    "import pandas as pd\n",
    "from tabulate import tabulate\n",
    "import random\n",
    "\n",
    "def calc_distance(Sobs,Smax,Srand):\n",
    "    return -log10( (Sobs-Srand) / (Smax - Srand) )\n",
    "\n",
    "def calc_Srand(seq1,seq2):\n",
    "\n",
    "    Srand_score = 0\n",
    "\n",
    "    for _ in range(10):\n",
    "\n",
    "        random1 = ''.join(random.sample(seq1,len(seq1)))\n",
    "        random2 = ''.join(random.sample(seq2,len(seq2)))\n",
    "\n",
    "        alignments = pairwise2.align.globalxx(random1, random2)\n",
    "\n",
    "        Srand_score += alignments[0].score\n",
    "\n",
    "    return (Srand_score/10)\n",
    "\n",
    "sequences = list(SeqIO.parse(f\"/home/henrik/BINF200_H23/assignments/data2/Coronavirus/Coronavirus/protein_N_data.fasta\", \"fasta\"))\n",
    "ids = [record.id for record in sequences]\n",
    "\n",
    "distance_df = pd.DataFrame(index=ids, columns=ids)\n",
    "\n",
    "for i in range(len(sequences)):\n",
    "    for j in range(i, len(sequences)):\n",
    "        alignments = pairwise2.align.globalxx(sequences[i].seq, sequences[j].seq)\n",
    "        alignments_self = pairwise2.align.globalxx(sequences[i].seq, sequences[i].seq)\n",
    "\n",
    "        Smax = alignments_self[0].score\n",
    "        Sobs = alignments[0].score\n",
    "        Srand = calc_Srand(str(sequences[i].seq),str(sequences[j].seq))\n",
    "\n",
    "        distance = calc_distance(Sobs,Smax,Srand)\n",
    "\n",
    "        distance_df.iloc[i, j] = distance\n",
    "        distance_df.iloc[j, i] = distance\n",
    "\n",
    "print(tabulate(distance_df, headers='keys', tablefmt='psql'))\n",
    "\n"
   ]
  }
 ],
 "metadata": {
  "kernelspec": {
   "display_name": "Python 3",
   "language": "python",
   "name": "python3"
  },
  "language_info": {
   "codemirror_mode": {
    "name": "ipython",
    "version": 3
   },
   "file_extension": ".py",
   "mimetype": "text/x-python",
   "name": "python",
   "nbconvert_exporter": "python",
   "pygments_lexer": "ipython3",
   "version": "3.10.12"
  },
  "orig_nbformat": 4
 },
 "nbformat": 4,
 "nbformat_minor": 2
}
