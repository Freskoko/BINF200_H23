{
 "cells": [
  {
   "cell_type": "markdown",
   "metadata": {},
   "source": [
    "### 4.1.1 Parse the fasta file (1 point)\n",
    "\n",
    "How many sequences are contained in the file protein_N_data.fasta?\n",
    "List the names of the sequences."
   ]
  },
  {
   "cell_type": "code",
   "execution_count": 23,
   "metadata": {},
   "outputs": [
    {
     "name": "stdout",
     "output_type": "stream",
     "text": [
      " Names of sequences : ['Human_NL63_alpha', 'Bat_alpha', 'mink_alpha', 'camel_alpha', 'ferret_alpha', 'rat_alpha', 'rabbit_beta', 'MERS_beta', 'HKU24_beta', 'England1_beta', 'SARS_beta', 'whale_gamma', 'turkey_gamma', 'duck_gamma', 'goose_gamma', 'sparrow_delta', 'wigeon_delta', 'nightHeron_delta', 'moorhen_delta', 'porcine_delta'] \n",
      " Length of induvidual sequences : [1134, 1278, 1131, 1149, 1128, 1176, 1335, 1242, 1332, 1236, 1260, 1140, 1230, 1245, 1245, 1029, 1053, 1029, 1056, 1029] \n",
      " Length of sequences: 20\n"
     ]
    }
   ],
   "source": [
    "from Bio import SeqIO\n",
    "from pathlib import Path\n",
    "\n",
    "# pwd = Path.absolute()\n",
    "\n",
    "records = SeqIO.parse(f\"/home/henrik/BINF200_H23/assignments/data2/Coronavirus/Coronavirus/protein_N_data.fasta\", \"fasta\")\n",
    "\n",
    "#Names:\n",
    "print(f\" Names of sequences : {[r.name for r in records]} \")\n",
    "\n",
    "records = SeqIO.parse(f\"/home/henrik/BINF200_H23/assignments/data2/Coronavirus/Coronavirus/protein_N_data.fasta\", \"fasta\")\n",
    "\n",
    "#Lengths:\n",
    "print(f\" Length of induvidual sequences : {[len(r.seq) for r in records]} \")\n",
    "\n",
    "records = SeqIO.parse(f\"/home/henrik/BINF200_H23/assignments/data2/Coronavirus/Coronavirus/protein_N_data.fasta\", \"fasta\")\n",
    "\n",
    "#Amount of sequences:\n",
    "\n",
    "records = SeqIO.parse(f\"/home/henrik/BINF200_H23/assignments/data2/Coronavirus/Coronavirus/protein_N_data.fasta\", \"fasta\")\n",
    "\n",
    "length = len([r for r in records])\n",
    "print(f\" Length of sequences: {length}\")\n",
    "\n"
   ]
  },
  {
   "cell_type": "markdown",
   "metadata": {},
   "source": [
    "### 4.1.2 Find protein N in a specific coronavirus genome (1 point)\n",
    "\n",
    "From the sequences in protein_N_data.fasta, find the sequence for which the first letter\n",
    "in its name is closest in the alphabet to the first letter in your first name. If there\n",
    "are multiple sequences starting with the same letter, pick one arbitrarily. For the selected\n",
    "sequence:\n",
    "\n",
    "**Human_NL63_alpha**\n",
    "\n",
    "• Find the assembly accession ID in the table above.\n",
    "• Go to the NCBI website (cf. links above) and find the corresponding genome assembly.\n",
    "• What are the genomic coordinates (start and end position) of gene N in this genome?\n",
    "(Hint: follow the RefSeq link)\n",
    "\n",
    "Link to the gene [\"gene\"](\"https://www.ncbi.nlm.nih.gov/gene/2943504/\")\n",
    "\n",
    "The genes range is : ***26133 - 27266*** "
   ]
  },
  {
   "cell_type": "markdown",
   "metadata": {},
   "source": [
    "### 4.1.3 Multiple sequence alignment (1 point)\n",
    "\n",
    "Build a multiple sequence alignment for the protein_N_data using a multiple sequence\n",
    "alignment tool of your choice. (Hint: check out the services provided by EMBL’s European\n",
    "Bioinformatics Institute (EMBL-EBI).)"
   ]
  },
  {
   "cell_type": "markdown",
   "metadata": {},
   "source": [
    "For this question i used:\n",
    "\n",
    "https://www.bioinformatics.nl/cgi-bin/emboss/emma\n",
    "\n",
    "and got out a file, containing aligned sequences."
   ]
  },
  {
   "cell_type": "markdown",
   "metadata": {},
   "source": [
    "### 4.1.4 Phylogenetic tree reconstruction (1 point)\n",
    "\n",
    "Based on the results from the previous step, build a phylogenetic tree. (Hint: at this stage\n",
    "it is not required to make an “advanced tree”, providing a simple tree is enough). Save the\n",
    "image of the phylogenetic/guide tree.\n"
   ]
  },
  {
   "cell_type": "markdown",
   "metadata": {},
   "source": [
    "Tree was made in this link:\n",
    "\n",
    "https://www.ebi.ac.uk/Tools/services/web/toolresult.ebi?jobId=simple_phylogeny-I20231002-105856-0957-35098453-p1m\n",
    "\n",
    "From the MSL\n",
    "\n",
    "Image:\n",
    "\n",
    "![tree](outdata2/treeout.png)\n",
    "\n"
   ]
  },
  {
   "cell_type": "markdown",
   "metadata": {},
   "source": [
    "### 4.1.5 Interpretation (1 point)\n",
    "\n",
    "Based on the results from the previous two steps, what do you see? Elaborate with a small\n",
    "text (3-4 lines): Explain what you observe from the multiple sequence alignment itself (hint:\n",
    "check the number of conserved sites), and give a short interpretation of the phylogenetic\n",
    "tree you have constructed."
   ]
  },
  {
   "cell_type": "markdown",
   "metadata": {},
   "source": [
    "From the tree i can see that virus variants are genetically grouped together by their \"variants\"\n"
   ]
  }
 ],
 "metadata": {
  "kernelspec": {
   "display_name": "Python 3",
   "language": "python",
   "name": "python3"
  },
  "language_info": {
   "codemirror_mode": {
    "name": "ipython",
    "version": 3
   },
   "file_extension": ".py",
   "mimetype": "text/x-python",
   "name": "python",
   "nbconvert_exporter": "python",
   "pygments_lexer": "ipython3",
   "version": "3.10.12"
  },
  "orig_nbformat": 4
 },
 "nbformat": 4,
 "nbformat_minor": 2
}
