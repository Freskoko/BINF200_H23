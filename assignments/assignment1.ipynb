{
 "cells": [
  {
   "cell_type": "markdown",
   "metadata": {},
   "source": [
    "### 5.1 Show that you understand the BLAST+ package (2 points)\n",
    "The BLAST+ package contains five core blast search programs.\n",
    "1. List all five core blast search programs.\n",
    "\n",
    "\n",
    "\n",
    "2. Explain the difference between blastn and blastp\n",
    "\n",
    "blastn is for using blast within nucleotide sequences\n",
    "\n",
    "blastp is for searching within protein sequences\n",
    "\n"
   ]
  },
  {
   "cell_type": "markdown",
   "metadata": {},
   "source": [
    "### 5.2 Show that you understand the biological experiment and data (2 points)\n",
    "Write a short paragraph in your own words to explain the biological experiment that was\n",
    "done to generate the sequence data (see the publication), what sequences are contained in\n",
    "the PacBio_VSG_filtered_reads_sample_name.fasta files, and what sequences are\n",
    "contained in the TREU927-v26_VSGTranscripts database.\n",
    "\n",
    "Answer the following question: What is the number of sequences in your input file? Hint:\n",
    "Most popular programming languages have packages that can parse FASTA files automatically\n",
    "\n",
    "**5.2 Paragraph answer:**\n",
    "\n",
    "\n",
    "\n",
    "**5.2 seq num answer** number of sequences in file = 19240\n",
    "See code below for parsing\n",
    "\n"
   ]
  },
  {
   "cell_type": "code",
   "execution_count": 2,
   "metadata": {},
   "outputs": [],
   "source": [
    "import pyfastx\n",
    "from pathlib import Path\n",
    "pwd = Path().absolute()"
   ]
  },
  {
   "cell_type": "code",
   "execution_count": 4,
   "metadata": {},
   "outputs": [
    {
     "name": "stdout",
     "output_type": "stream",
     "text": [
      "<Fasta> /home/henrik/BINF200_H23/assignments/data/PacBio_VSG_filtered_reads_balbc_10_5.fasta contains 19240 sequences\n"
     ]
    }
   ],
   "source": [
    "directory = f\"{str(pwd)}/data/PacBio_VSG_filtered_reads_balbc_10_5.fasta\"\n",
    "fa = pyfastx.Fasta(directory)\n",
    "print(fa)"
   ]
  },
  {
   "cell_type": "markdown",
   "metadata": {},
   "source": [
    "### 5.3 BLAST the sample sequences against the reference VSG database (4\n",
    "points)\n",
    "\n",
    "Blast sample sequences against reference vsg database\n",
    "PacBio_VSG_filtered_reads_balbc_10_5\n",
    "\n",
    "1. Change the input file name to your assigned sample file (see Table 1).\n",
    "2. Change the output file name to something containing your sample label (see Table 1).\n",
    "3. What does the paramater -max_target_seq do and why was it set to 1?\n",
    "\n",
    "Blast command used to do the general file\n",
    "\n",
    "\n",
    "*Command from repo*\n",
    "```\n",
    "blastn -query data/PacBio_VSG_filtered_reads_balbc_10_5.fasta -db data/TREU927-v26_VSGTranscripts/TREU927-v26_VSGTranscripts.fasta -out outdata/PacBio_VSG_filtered_reads_balbc_10_5_outfmt6.txt -max_target_seqs 1 -outfmt '6 qseqid sseqid qseq sseq qlen slen qstart qend sstart send evalue bitscore score length nident mismatch positive gapopen gaps ppos'\n",
    "```\n",
    "\n",
    "4.\n",
    "\n",
    "*Command with updated flags to match question 4*\n",
    "\n",
    "```\n",
    "blastn -query data/PacBio_VSG_filtered_reads_balbc_10_5.fasta -db data/TREU927-v26_VSGTranscripts/TREU927-v26_VSGTranscripts.fasta -out outdata/PacBio_VSG_filtered_reads_balbc_10_5_outfmt6.txt -max_target_seqs 1 -outfmt '6 qseqid sseqid score bitscore evalue qlen slen length sstart send nident mismatch gaps positive'\n",
    "```"
   ]
  },
  {
   "cell_type": "code",
   "execution_count": 12,
   "metadata": {},
   "outputs": [
    {
     "name": "stdout",
     "output_type": "stream",
     "text": [
      "                            0              1     2       3    4     5     6   \\\n",
      "0           balbc_10_5/52/ccs6  Tb08.27P2.380   766  1415.0  0.0  1724  1551   \n",
      "1           balbc_10_5/67/ccs2  Tb08.27P2.380   783  1447.0  0.0  1787  1551   \n",
      "2           balbc_10_5/85/ccs8  Tb08.27P2.380   819  1513.0  0.0  1759  1551   \n",
      "3           balbc_10_5/92/ccs5  Tb08.27P2.380   766  1415.0  0.0  1794  1551   \n",
      "4           balbc_10_5/99/ccs3   Tb09.v4.0077  1301  2403.0  0.0  1618  1470   \n",
      "...                        ...            ...   ...     ...  ...   ...   ...   \n",
      "19285  balbc_10_5/163001/ccs16   Tb09.v4.0088  1314  2427.0  0.0  1469  1317   \n",
      "19286   balbc_10_5/163150/ccs5    Tb927.10.10  1345  2484.0  0.0  1475  1377   \n",
      "19287   balbc_10_5/163290/ccs7  Tb08.27P2.380   798  1474.0  0.0  1745  1551   \n",
      "19288   balbc_10_5/163466/ccs5   Tb09.v4.0088  1284  2372.0  0.0  1447  1317   \n",
      "19289   balbc_10_5/163473/ccs2   Tb10.v4.0065  1295  2392.0  0.0  1731  1500   \n",
      "\n",
      "         7   8     9     10   11  12    13  \n",
      "0      1271   1  1266  1109  125  37  1109  \n",
      "1      1285   1  1266  1123  130  32  1123  \n",
      "2      1274   1  1266  1126  127  21  1126  \n",
      "3      1292   1  1266  1123  132  37  1123  \n",
      "4      1483   1  1458  1428   21  34  1428  \n",
      "...     ...  ..   ...   ...  ...  ..   ...  \n",
      "19285  1317   1  1317  1316    1   0  1316  \n",
      "19286  1384   1  1377  1373    0  11  1373  \n",
      "19287  1271   1  1266  1118  125  28  1118  \n",
      "19288  1324   1  1317  1312    5   7  1312  \n",
      "19289  1566   3  1500  1488    5  73  1488  \n",
      "\n",
      "[19290 rows x 14 columns]\n"
     ]
    }
   ],
   "source": [
    "import pandas as pd\n",
    "import numpy as np\n",
    "\n",
    "df = pd.read_csv(f\"{str(pwd)}/outdata/PacBio_VSG_filtered_reads_balbc_10_5_outfmt6.txt\", sep=\"\t\", header=None)\n",
    "print(df)"
   ]
  },
  {
   "cell_type": "markdown",
   "metadata": {},
   "source": [
    "### 5.4 1. What is the number of sequences in your blast output file? Is it the same as in the\n",
    "input file? Hint: Import the BLAST output file into a DataFrame.\n",
    "\n",
    "One can see from the `print(df)` that there are 19290 rows,\n",
    "the input file has 19240 sequences, while the output file has 19290 sequences, so a an increase in 50 lines. "
   ]
  },
  {
   "cell_type": "code",
   "execution_count": 16,
   "metadata": {},
   "outputs": [
    {
     "name": "stdout",
     "output_type": "stream",
     "text": [
      "                             0              1     2       3    4     5     6  \\\n",
      "0           balbc_10_5/52/ccs6  Tb08.27P2.380   766  1415.0  0.0  1724  1551   \n",
      "1           balbc_10_5/67/ccs2  Tb08.27P2.380   783  1447.0  0.0  1787  1551   \n",
      "2           balbc_10_5/85/ccs8  Tb08.27P2.380   819  1513.0  0.0  1759  1551   \n",
      "3           balbc_10_5/92/ccs5  Tb08.27P2.380   766  1415.0  0.0  1794  1551   \n",
      "4           balbc_10_5/99/ccs3   Tb09.v4.0077  1301  2403.0  0.0  1618  1470   \n",
      "...                        ...            ...   ...     ...  ...   ...   ...   \n",
      "19285  balbc_10_5/163001/ccs16   Tb09.v4.0088  1314  2427.0  0.0  1469  1317   \n",
      "19286   balbc_10_5/163150/ccs5    Tb927.10.10  1345  2484.0  0.0  1475  1377   \n",
      "19287   balbc_10_5/163290/ccs7  Tb08.27P2.380   798  1474.0  0.0  1745  1551   \n",
      "19288   balbc_10_5/163466/ccs5   Tb09.v4.0088  1284  2372.0  0.0  1447  1317   \n",
      "19289   balbc_10_5/163473/ccs2   Tb10.v4.0065  1295  2392.0  0.0  1731  1500   \n",
      "\n",
      "          7  8     9    10   11  12    13    coverage  \n",
      "0      1271  1  1266  1109  125  37  1109   81.947131  \n",
      "1      1285  1  1266  1123  130  32  1123   82.849774  \n",
      "2      1274  1  1266  1126  127  21  1126   82.140554  \n",
      "3      1292  1  1266  1123  132  37  1123   83.301096  \n",
      "4      1483  1  1458  1428   21  34  1428  100.884354  \n",
      "...     ... ..   ...   ...  ...  ..   ...         ...  \n",
      "19285  1317  1  1317  1316    1   0  1316  100.000000  \n",
      "19286  1384  1  1377  1373    0  11  1373  100.508351  \n",
      "19287  1271  1  1266  1118  125  28  1118   81.947131  \n",
      "19288  1324  1  1317  1312    5   7  1312  100.531511  \n",
      "19289  1566  3  1500  1488    5  73  1488  104.400000  \n",
      "\n",
      "[19290 rows x 15 columns]\n"
     ]
    }
   ],
   "source": [
    "###5.4 2. We define the alignment coverage as the percentage of the subject sequence covered\n",
    "# by the alignment. Compute the alignment coverage for all sequences from the BLAST\n",
    "# output.\n",
    "\n",
    "df['coverage'] = np.divide(df[7],df[6])*100\n",
    "\n",
    "print(df)"
   ]
  },
  {
   "cell_type": "code",
   "execution_count": 17,
   "metadata": {},
   "outputs": [
    {
     "data": {
      "image/png": "[encoded data removed]",
      "text/plain": [
       "<Figure size 640x480 with 1 Axes>"
      ]
     },
     "metadata": {},
     "output_type": "display_data"
    }
   ],
   "source": [
    "### 5.4 3. Visualize the distribution of alignment coverages as a histogram\n",
    "import matplotlib.pyplot as plt\n",
    "\n",
    "plt.plot(df.index,df[\"coverage\"])\n",
    "plt.show()  \n"
   ]
  },
  {
   "cell_type": "code",
   "execution_count": 21,
   "metadata": {},
   "outputs": [
    {
     "name": "stdout",
     "output_type": "stream",
     "text": [
      "                             0              1       2       3    4       5  \\\n",
      "0           balbc_10_5/52/ccs6  Tb08.27P2.380   766.0  1415.0  0.0  1724.0   \n",
      "1           balbc_10_5/67/ccs2  Tb08.27P2.380   783.0  1447.0  0.0  1787.0   \n",
      "2           balbc_10_5/85/ccs8  Tb08.27P2.380   819.0  1513.0  0.0  1759.0   \n",
      "3           balbc_10_5/92/ccs5  Tb08.27P2.380   766.0  1415.0  0.0  1794.0   \n",
      "4           balbc_10_5/99/ccs3   Tb09.v4.0077  1301.0  2403.0  0.0  1618.0   \n",
      "...                        ...            ...     ...     ...  ...     ...   \n",
      "19285  balbc_10_5/163001/ccs16   Tb09.v4.0088  1314.0  2427.0  0.0  1469.0   \n",
      "19286   balbc_10_5/163150/ccs5    Tb927.10.10  1345.0  2484.0  0.0  1475.0   \n",
      "19287   balbc_10_5/163290/ccs7  Tb08.27P2.380   798.0  1474.0  0.0  1745.0   \n",
      "19288   balbc_10_5/163466/ccs5   Tb09.v4.0088  1284.0  2372.0  0.0  1447.0   \n",
      "19289   balbc_10_5/163473/ccs2   Tb10.v4.0065  1295.0  2392.0  0.0  1731.0   \n",
      "\n",
      "            6       7    8       9      10     11    12      13    coverage  \n",
      "0      1551.0  1271.0  1.0  1266.0  1109.0  125.0  37.0  1109.0   81.947131  \n",
      "1      1551.0  1285.0  1.0  1266.0  1123.0  130.0  32.0  1123.0   82.849774  \n",
      "2      1551.0  1274.0  1.0  1266.0  1126.0  127.0  21.0  1126.0   82.140554  \n",
      "3      1551.0  1292.0  1.0  1266.0  1123.0  132.0  37.0  1123.0   83.301096  \n",
      "4      1470.0  1483.0  1.0  1458.0  1428.0   21.0  34.0  1428.0  100.884354  \n",
      "...       ...     ...  ...     ...     ...    ...   ...     ...         ...  \n",
      "19285  1317.0  1317.0  1.0  1317.0  1316.0    1.0   0.0  1316.0  100.000000  \n",
      "19286  1377.0  1384.0  1.0  1377.0  1373.0    0.0  11.0  1373.0  100.508351  \n",
      "19287  1551.0  1271.0  1.0  1266.0  1118.0  125.0  28.0  1118.0   81.947131  \n",
      "19288  1317.0  1324.0  1.0  1317.0  1312.0    5.0   7.0  1312.0  100.531511  \n",
      "19289  1500.0  1566.0  3.0  1500.0  1488.0    5.0  73.0  1488.0  104.400000  \n",
      "\n",
      "[19290 rows x 15 columns]\n"
     ]
    },
    {
     "data": {
      "image/png": "[encoded data removed]",
      "text/plain": [
       "<Figure size 640x480 with 1 Axes>"
      ]
     },
     "metadata": {},
     "output_type": "display_data"
    }
   ],
   "source": [
    "# 4. Remove alignments with coverage less than 60% \n",
    "\n",
    "df_60 = df.where(df[\"coverage\"] >= 60)\n",
    "print(df_60)\n",
    "\n",
    "plt.plot(df.index,df_60[\"coverage\"])\n",
    "plt.show()  "
   ]
  },
  {
   "cell_type": "code",
   "execution_count": 24,
   "metadata": {},
   "outputs": [
    {
     "name": "stdout",
     "output_type": "stream",
     "text": [
      "balbc_10_5/9516/ccs6\n",
      "balbc_10_5/13602/ccs6\n",
      "balbc_10_5/14641/ccs6\n",
      "balbc_10_5/16037/ccs9\n",
      "balbc_10_5/18004/ccs6\n",
      "balbc_10_5/19035/ccs10\n",
      "balbc_10_5/20140/ccs5\n",
      "balbc_10_5/28760/ccs7\n",
      "balbc_10_5/32103/ccs10\n",
      "balbc_10_5/32103/ccs10\n",
      "balbc_10_5/32166/ccs12\n",
      "balbc_10_5/34766/ccs5\n",
      "balbc_10_5/37601/ccs3\n",
      "balbc_10_5/40970/ccs10\n",
      "balbc_10_5/41846/ccs2\n",
      "balbc_10_5/54403/ccs4\n",
      "balbc_10_5/59393/ccs5\n",
      "balbc_10_5/60328/ccs4\n",
      "balbc_10_5/60535/ccs6\n",
      "balbc_10_5/68366/ccs5\n",
      "balbc_10_5/69323/ccs5\n",
      "balbc_10_5/72270/ccs9\n",
      "balbc_10_5/76548/ccs8\n",
      "balbc_10_5/80022/ccs4\n",
      "balbc_10_5/80563/ccs3\n",
      "balbc_10_5/83251/ccs3\n",
      "balbc_10_5/86432/ccs2\n",
      "balbc_10_5/91958/ccs4\n",
      "balbc_10_5/93061/ccs2\n",
      "balbc_10_5/93915/ccs7\n",
      "balbc_10_5/96139/ccs5\n",
      "balbc_10_5/96344/ccs7\n",
      "balbc_10_5/98370/ccs2\n",
      "balbc_10_5/104474/ccs10\n",
      "balbc_10_5/106134/ccs7\n",
      "balbc_10_5/113071/ccs5\n",
      "balbc_10_5/122597/ccs6\n",
      "balbc_10_5/123126/ccs2\n",
      "balbc_10_5/127055/ccs8\n",
      "balbc_10_5/127942/ccs4\n",
      "balbc_10_5/128503/ccs6\n",
      "balbc_10_5/129106/ccs9\n",
      "balbc_10_5/131579/ccs4\n",
      "balbc_10_5/131708/ccs5\n",
      "balbc_10_5/133333/ccs4\n",
      "balbc_10_5/134321/ccs5\n",
      "balbc_10_5/136567/ccs12\n",
      "balbc_10_5/144108/ccs4\n",
      "balbc_10_5/144855/ccs9\n",
      "balbc_10_5/147343/ccs4\n"
     ]
    }
   ],
   "source": [
    "#verify that each query sequence is now aligned to at most one subject sequence.\n",
    "\n",
    "unique_list = []\n",
    "for seq in df[0]:\n",
    "    if seq in unique_list:\n",
    "        print(seq)\n",
    "    else:\n",
    "        unique_list.append(seq)"
   ]
  },
  {
   "cell_type": "code",
   "execution_count": null,
   "metadata": {},
   "outputs": [],
   "source": [
    "#Bit score"
   ]
  }
 ],
 "metadata": {
  "kernelspec": {
   "display_name": "Python 3",
   "language": "python",
   "name": "python3"
  },
  "language_info": {
   "codemirror_mode": {
    "name": "ipython",
    "version": 3
   },
   "file_extension": ".py",
   "mimetype": "text/x-python",
   "name": "python",
   "nbconvert_exporter": "python",
   "pygments_lexer": "ipython3",
   "version": "3.10.12"
  },
  "orig_nbformat": 4
 },
 "nbformat": 4,
 "nbformat_minor": 2
}
