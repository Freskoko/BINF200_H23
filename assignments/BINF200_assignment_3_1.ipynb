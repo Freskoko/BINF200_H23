{
  "cells": [
    {
      "cell_type": "markdown",
      "metadata": {
        "id": "GdOTTzL6ecCL"
      },
      "source": [
        "# BINF 200 - Biological structures - 1\n",
        "\n",
        "In this assignment, we will query and navigate biological knowledgebases programatically and manually. Please read the text carefully and execute the code chinks in sequential order.\n",
        "\n",
        "The chunks in this notebook present the following icons, indicating what is expected of you:\n",
        "- ❓: Please edit the text to fill in your answer.\n",
        "- ▶: Check what the code is doing and run\n",
        "- 💻: Please edit the code according to the instructions and run the chunk.\n"
      ]
    },
    {
      "cell_type": "markdown",
      "metadata": {
        "id": "1JbX4QK4nxsy"
      },
      "source": [
        "### ❓ Your name in amino acids\n",
        "\n",
        "Edit the table below so that the first column contains the letter of your first and last name.\n",
        "\n",
        "| Letter | Amino acid? | Name | Polarity | Net charge at pH 7.4 |\n",
        "| - | - | - | - | - |\n",
        "| H | Yes | Histidine | polar | Partially charged |\n",
        "| B | Yes | Asparagine | polar | Uncharged |\n"
      ]
    },
    {
      "cell_type": "markdown",
      "metadata": {
        "id": "hdi9nzWHpFom"
      },
      "source": [
        "### ▶ Download human proteins from UniProt\n",
        "\n",
        "The code below downloads identifiers of reviewed human proteins from UniProt stored in the repository of the course."
      ]
    },
    {
      "cell_type": "code",
      "execution_count": 4,
      "metadata": {
        "id": "mwxKDEHrqifz"
      },
      "outputs": [],
      "source": [
        "import requests\n",
        "from io import BytesIO\n",
        "import gzip\n",
        "import pandas as pd\n",
        "\n",
        "response = requests.get(\"https://github.com/mvaudel/BINF200-bio-sequences-structures/raw/main/assignments/assignment_3/resources/uniprotkb_reviewed_true_AND_model_organ_2023_10_28.tsv.gz\")\n",
        "\n",
        "# When getting something from a URL, the response code 200 indicates a success\n",
        "if response.status_code == 200:\n",
        "\n",
        "  # Get the content of the response\n",
        "  content = response.content\n",
        "\n",
        "  # Create a BytesIO object to work with the gzipped content\n",
        "  with BytesIO(content) as bio:\n",
        "\n",
        "    # Use gzip to decompress the content\n",
        "    with gzip.open(bio, 'rb') as f:\n",
        "\n",
        "      # Use pandas to read the table (adjust the options as needed)\n",
        "      proteins_df = pd.read_csv(f, delimiter='\\t', header = 0)\n",
        "\n",
        "# If we did not get an http code 200, check the meaning of the code to troubleshoot the issue\n",
        "else:\n",
        "    print(f\"Failed to download the file. Http error code: {response.status_code}.\")\n"
      ]
    },
    {
      "cell_type": "markdown",
      "metadata": {
        "id": "fiVc3WQ0fzTR"
      },
      "source": [
        "### 💻 Select a protein\n",
        "\n",
        "Edit the code below to replace `YOUR_NAME` with your actual name and run the chunk to sample a protein.\n",
        "\n",
        "💡 In the unlikely event that you get the same protein as me or one of your friends, change the string `my_name` again to get a new protein, e.g. using your cat's name."
      ]
    },
    {
      "cell_type": "code",
      "execution_count": 7,
      "metadata": {
        "colab": {
          "base_uri": "https://localhost:8080/"
        },
        "id": "qWvN_8uMhYvs",
        "outputId": "4e331197-4781-417d-f346-a4b139d45f40"
      },
      "outputs": [
        {
          "name": "stdout",
          "output_type": "stream",
          "text": [
            "Congratulations! Your protein accession is: Q6ZWJ1\n"
          ]
        }
      ],
      "source": [
        "# Your name\n",
        "my_name = \"HENRIK\"\n",
        "\n",
        "# Sample protein\n",
        "index = hash(my_name)\n",
        "\n",
        "if index < 0:\n",
        "    index += 2**32\n",
        "\n",
        "index = index % len(proteins_df)\n",
        "\n",
        "print(f\"Congratulations! Your protein accession is: {proteins_df['Entry'][index]}\")\n"
      ]
    },
    {
      "cell_type": "markdown",
      "metadata": {
        "id": "4f-Ll9K65JBB"
      },
      "source": [
        "🕵 Instructions\n",
        "\n",
        "In the following, follow the different questions and fill the answers using your protein. Examples with my protein are provided for guidance.\n",
        "\n",
        "### ❓ Protein information\n",
        "\n",
        "Find you protein in UniProt using a web browser. Edit the table below with information on your protein.\n",
        "\n",
        "| Attribute | Value |\n",
        "| - | - |\n",
        "| Protein Accession | Q6ZWJ1 |\n",
        "| Gene name | STXBP4 |\n",
        "| Protein name | Syntaxin-binding protein 4 |\n",
        "\n",
        "### ❓ Protein function\n",
        "\n",
        "What is the function of your protein according to UniProt?\n",
        "\n",
        "> Plays a role in the translocation of transport vesicles from the cytoplasm to the plasma membrane. Inhibits the translocation of SLC2A4 from intracellular vesicles to the plasma membrane by STX4A binding and preventing the interaction between STX4A and VAMP2. Stimulation with insulin disrupts the interaction with STX4A, leading to increased levels of SLC2A4 at the plasma membrane. May also play a role in the regulation of insulin release by pancreatic beta cells after stimulation by glucose (By similarity).\n",
        "\n",
        "### ❓ Protein sequence\n",
        "\n",
        "What is the sequence of your protein according to UniProt?\n",
        "\n",
        "> MNKNTSTVVSPSLLEKDPAFQMITIAKETGLGLKVLGGINRNEGPLVYIQEIIPGGDCYK\n",
        "DGRLKPGDQLVSVNKESMIGVSFEEAKSIITGAKLRLESAWEIAFIRQKSDNIQPENLSC\n",
        "TSLIEASGEYGPQASTLSLFSSPPEILIPKTSSTPKTNNDILSSCEIKTGYNKTVQIPIT\n",
        "SENSTVGLSNTDVASAWTENYGLQEKISLNPSVRFKAEKLEMALNYLGIQPTKEQHQALR\n",
        "QQVQADSKGTVSFGDFVQVARNLFCLQLDEVNVGAHEISNILDSQLLPCDSSEADEMERL\n",
        "KCERDDALKEVNTLKEKLLESDKQRKQLTEELQNVKQEAKAVVEETRALRSRIHLAEAAQ\n",
        "RQAHGMEMDYEEVIRLLEAKITELKAQLADYSDQNKESVQDLKKRIMVLDCQLRKSEMAR\n",
        "KTFEASTEKLLHFVEAIQEVFSDNSTPLSNLSERRAVLASQTSLTPLGRNGRSIPATLAL\n",
        "ESKELVKSVRALLDMDCLPYGWEEAYTADGIKYFINHVTQTTSWIHPVMSVLNLSRSEEN\n",
        "EEDCSRELPNQKS\n",
        "\n",
        "### ❓ Protein structure\n",
        "\n",
        "How were the structures in UniProt determined?\n",
        "\n",
        "> NMR, and predicted using AlphaFold\n",
        "\n",
        "What parts of the sequence do these cover?\n",
        "\n",
        "> NMR 498-530, AlphaFold 1-553.\n",
        "\n",
        "What features does the structure present?\n",
        "\n",
        "> Beta strands only\n",
        "\n",
        "### ❓ Genetic sequence\n",
        "\n",
        "Look up the gene name in Ensembl. How many transcripts are encoded by this gene according to Ensembl?\n",
        "\n",
        "> 8\n",
        "\n",
        "Under `Transcript ID` in the transcript table, select a transcript encoding your UniProt Match. If multiple transcripts match, select the first one.\n",
        "\n",
        "Select `Exons` in the menu to the left. How many introns and exons are in this gene?\n",
        "\n",
        "> 18 exons, 18 introns\n",
        "\n",
        "Select `cDNA`, what is the genetic code corresponding to the ten first amino acids of your protein sequence?\n",
        "\n",
        "> AGGTGGCAGCGCTTGCAGTCGGGCTACGGA\n",
        "\n",
        "Select `Protein`, how many exons make up the final sequence?\n",
        "\n",
        "> 16\n",
        "\n",
        "Is there an amino acid overlapping with a splice site? If yes, between which exons?\n",
        "\n",
        "> K between exon 1 and 2\n",
        "> R between exon 3 and 4\n",
        "> D between exon 6 and 7\n",
        "> D between exon 8 and 9\n",
        "> S between exon 14 and 15\n",
        "> C between exon 15 and 16\n",
        "> N between exon 16 and 17\n",
        "\n",
        "\n",
        "### ❓ Genetic variation\n",
        "\n",
        "\n",
        "Now select `Variants` in the menu to the left, in the variants table, is there a missense variant? If yes, what residues are changed?\n",
        "\n",
        "> \trs889958517, D, Y\n",
        "\n",
        "Are there in the table both tolerated and deleterious variants according to SIFT? What is their respective frequencies?\n",
        "\n",
        "> rs889958517rs889958517, deleterious, No maf found. This means it is extremely rare.\n",
        "> rs1445120718, tolerated, maf < 0.01\n",
        "\n",
        "Query your gene in ClinVar. How many variants are listed in the different levels of clinical significance?\n",
        "\n",
        "\n",
        "| Clinical significance | N |\n",
        "| - | - |\n",
        "| Conflicting interpretations | 0 |\n",
        "| Benign | 1 |\n",
        "| Likely benign | 1 |\n",
        "| Uncertain significance | 18 |\n",
        "| Likely pathogenic | 0 |\n",
        "| Pathogenic | 11 |\n",
        "\n",
        "If pathoegnic variants were found, can you find an example of condition?\n",
        "\n",
        "> Tumors, specficially breast tumors\n",
        "\n",
        "### ❓ PDB entries\n",
        "\n",
        "Query the UniProt identifier of your protein. How many structures are available? How were they determined?\n",
        "\n",
        "> 2 structures: Solution NMR, biological assembly\n",
        "\n",
        "Select the largest structure. Select `Structure` under Èxplore in 3D. Using the JSmol viewer, build a 3D representation using the space fill style with the secondary structure indicated in color and attach it to your assignment.\n",
        "\n",
        "![image.png](coolprotein.png)\n",
        "\n",
        "\n",
        "\n",
        "\n"
      ]
    }
  ],
  "metadata": {
    "colab": {
      "history_visible": true,
      "provenance": []
    },
    "kernelspec": {
      "display_name": "Python 3",
      "name": "python3"
    },
    "language_info": {
      "codemirror_mode": {
        "name": "ipython",
        "version": 3
      },
      "file_extension": ".py",
      "mimetype": "text/x-python",
      "name": "python",
      "nbconvert_exporter": "python",
      "pygments_lexer": "ipython3",
      "version": "3.10.12"
    }
  },
  "nbformat": 4,
  "nbformat_minor": 0
}
