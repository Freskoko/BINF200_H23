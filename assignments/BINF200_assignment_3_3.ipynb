{
  "cells": [
    {
      "cell_type": "markdown",
      "metadata": {
        "id": "5U3NITD5oOP1"
      },
      "source": [
        "# BINF 200 - Biological structures - 3\n",
        "\n",
        "In this assignment, we will predict protein structures using AlphaFold. Please read the text carefully and execute the code chunks in sequential order.\n",
        "\n",
        "The chunks in this notebook present the following icons, indicating what is expected of you:\n",
        "- ❓: Please edit the text to fill in your answer.\n",
        "- ▶: Check what the code is doing and run\n",
        "- 💻: Please edit the code according to the instructions and run the chunk.\n",
        "\n",
        "❗ Warning: This part of the assignment is written for [colab](https://colab.research.google.com/). While you can adapt it to run localy, it is strongly recommended to run on Colab. The code has been tested under the free plan of colab. You do **not** need to buy any kind of subscription to complete the assigment.\n",
        "\n",
        "💡 Tip: feel free to take a screenshots and provide answers in a text document."
      ]
    },
    {
      "cell_type": "markdown",
      "metadata": {
        "id": "Q4-Xefd0ogfg"
      },
      "source": [
        "### 💻 AlphaFold DB\n",
        "\n",
        "AlphaFold DB (https://alphafold.ebi.ac.uk/) provides an entry point to AlphaFold predictions on a broad range of UniProt sequences. Query your protein in AlphaFold DB and answer the following questions:\n",
        "\n",
        "![protein](data3/coolprotein_3_1.png)\n",
        "\n",
        "- How do you interpret the Predicted aligned error (PAE) plot?\n",
        "\n",
        "![paeimg](data3/pae.png)\n",
        "\n",
        "From position 0,100 alphafold is quite confident in its guess, meaning that it is happy with its guess of structure of this domain.\n",
        "From position 200-280, alphafold is also quite confident in its guess.\n",
        "\n",
        "From 300-550, alphafold is a little less confident in its guess as some regions are quite dark, but other a bit lighters.\n",
        "\n",
        "From the website, correlating domains with the positons from the PAE plot, reveals that the areas which is quite green, it is very sure about. \n",
        "\n",
        "The areas that are just a straight line (100-200), are long \"stringy\" regions which the model is quite unsure about. \n",
        "\n",
        "When i say \"are very sure about\" i mean that alphafold thinks that these amino acids are usually statically close to one another.\n",
        "\n",
        "- What does the pLDDT score represent?\n",
        "\n",
        "\n",
        "plDDT refers to the models guess on how well it would do on a local Difference Test The local difference test evaluates distances between alpha-carbons, and atoms in the protein. \n",
        "\n",
        "Basically, how confident the model is on its self made prediction. \n",
        "\n",
        "- Looking at the 3D representation, what parts of the protein are well resolved?\n",
        "\n",
        "The long alpha chains, and the beta sheets are well resolved in this protein."
      ]
    },
    {
      "cell_type": "markdown",
      "metadata": {},
      "source": [
        "AlphaFold2:"
      ]
    },
    {
      "cell_type": "markdown",
      "metadata": {
        "id": "VqDNs1vo6z1T"
      },
      "source": [
        "\n",
        "### 💻 AlphaFold2\n",
        "\n",
        "[Mirdita et al.](https://www.nature.com/articles/s41592-022-01488-1) have established a notebook, ColabDold, that allows you to query AlphaFold2 and run predictions: https://colab.research.google.com/github/sokrypton/ColabFold/blob/main/AlphaFold2.ipynb\n",
        "\n",
        "1- Open [ColabFold](https://colab.research.google.com/github/sokrypton/ColabFold/blob/main/AlphaFold2.ipynb) and set the sequence of your protein.\n",
        "\n",
        "2- Follow the different steps.\n",
        "\n",
        "3- Download the results and attach them to your assignment.\n",
        "\n",
        "4- Looking at the different plots and structure visualizations, how similar are the results compared to AlphaFold DB?\n",
        "\n",
        "> Note that the prediction was run on a dedicated server. You can run AlphaFold in colab using the [AlphaFold colab](https://colab.research.google.com/github/deepmind/alphafold/blob/main/notebooks/AlphaFold.ipynb) notebook released by DeepMind. This would take much longer and it is not necessary for this assignment."
      ]
    },
    {
      "cell_type": "markdown",
      "metadata": {},
      "source": [
        "![img](data3/Q6ZWJ1_0869d_coverage.png)\n",
        "![img](data3/Q6ZWJ1_0869d_pae.png)\n",
        "![img](data3/Q6ZWJ1_0869d_plddt.png)\n",
        "![img](data3/coolprotein_3_2.png)\n",
        "![img](data3/coolprotein_3_3.png)\n",
        "![img](data3/coolprotein_3_4.png)\n",
        "![img](data3/coolprotein_3_5.png)\n",
        "![img](data3/coolprotein_3_6.png)\n",
        "![img](data3/coolprotein_3_7.png)\n"
      ]
    },
    {
      "cell_type": "markdown",
      "metadata": {},
      "source": [
        "4- Looking at the different plots and structure visualizations, how similar are the results compared to AlphaFold DB?\n",
        "\n",
        "\n",
        "The two predictons of the proteins are somewhat similar. The main beta sheets and alpha helixes are very similar between the two, with the exception of the long alpha-helix turning! In the original alphafold prediction, the alpha helix is long and straight. Using this model, results in a bent alpha helix. Interesting.\n",
        "\n",
        "The long stringy amino acid sequences seem to vary quite a lot between the two. They cant seem to \"agree\" on where these will go. This makes sense since these parts may not be as important, and may not be conserved so well. \n",
        "\n",
        "The PAE plots also resemble eachother quite a bit, highlighitng how they both understood the importance of the domains. However, from amino acid 400 and out, there is a fair bit of varation between the two (the part of the alpha helix that turns)."
      ]
    }
  ],
  "metadata": {
    "colab": {
      "history_visible": true,
      "provenance": []
    },
    "kernelspec": {
      "display_name": "Python 3",
      "name": "python3"
    },
    "language_info": {
      "name": "python"
    }
  },
  "nbformat": 4,
  "nbformat_minor": 0
}
